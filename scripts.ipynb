{
 "cells": [
  {
   "attachments": {},
   "cell_type": "markdown",
   "metadata": {},
   "source": [
    "## Generate random birthdays"
   ]
  },
  {
   "cell_type": "code",
   "execution_count": null,
   "metadata": {},
   "outputs": [],
   "source": [
    "#!/bin/python\n",
    "import random\n",
    "\n",
    "amount = int(input(\"Number of birthdays to generate: \"))\n",
    "\n",
    "x = 0\n",
    "while x < amount:\n",
    "\tday = random.randint(1, 31)\n",
    "\tmonth = random.randint(1, 12)\n",
    "\tprint(f'{month}-{day}')\n",
    "\tx+=1"
   ]
  },
  {
   "attachments": {},
   "cell_type": "markdown",
   "metadata": {},
   "source": [
    "## Batch generate hugo content pages"
   ]
  },
  {
   "cell_type": "code",
   "execution_count": null,
   "metadata": {},
   "outputs": [],
   "source": [
    "#!/bin/python\n",
    "import os, time, csv\n",
    "\n",
    "with open('data/countries.tab') as countries:\n",
    "\treader = csv.DictReader(countries, delimiter='\t')\n",
    "\tfor row in reader:\n",
    "\t\tfilename = row['code']\n",
    "\t\tos.system(f'hugo new countries/{filename}.md')\n",
    "\t\ttime.sleep(1)\n"
   ]
  },
  {
   "cell_type": "code",
   "execution_count": null,
   "metadata": {},
   "outputs": [],
   "source": [
    "#!/bin/python\n",
    "import os, time, csv\n",
    "\n",
    "with open('data/magical-girls.tab') as magias:\n",
    "\treader = csv.DictReader(magias, delimiter='\t')\n",
    "\tfor row in reader:\n",
    "\t\tfilename = row['name']\n",
    "\t\tos.system(f'hugo new magical-girls/{filename}.md')\n",
    "\t\ttime.sleep(1)"
   ]
  }
 ],
 "metadata": {
  "kernelspec": {
   "display_name": "Python 3.10.8 64-bit",
   "language": "python",
   "name": "python3"
  },
  "language_info": {
   "codemirror_mode": {
    "name": "ipython",
    "version": 3
   },
   "file_extension": ".py",
   "mimetype": "text/x-python",
   "name": "python",
   "nbconvert_exporter": "python",
   "pygments_lexer": "ipython3",
   "version": "3.10.8"
  },
  "orig_nbformat": 4,
  "vscode": {
   "interpreter": {
    "hash": "e7370f93d1d0cde622a1f8e1c04877d8463912d04d973331ad4851f04de6915a"
   }
  }
 },
 "nbformat": 4,
 "nbformat_minor": 2
}
